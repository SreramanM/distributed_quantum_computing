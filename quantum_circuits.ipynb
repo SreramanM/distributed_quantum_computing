{
 "cells": [
  {
   "cell_type": "code",
   "execution_count": 22,
   "id": "ed7aefe7",
   "metadata": {},
   "outputs": [],
   "source": [
    "from qiskit import QuantumRegister\n",
    "from qiskit import QuantumCircuit\n",
    "from qiskit import Aer\n",
    "from qiskit import ClassicalRegister,  transpile\n",
    "from qiskit.visualization import plot_histogram\n",
    "import numpy as np\n",
    "from qiskit import BasicAer\n",
    "from qiskit import BasicAer, execute\n",
    "import statistics\n",
    "import qiskit\n",
    "from qiskit import assemble, transpile\n",
    "from qiskit.providers.aer.noise import NoiseModel\n",
    "import qiskit.providers.aer.noise as noise\n",
    "from qiskit.providers.aer.noise import (NoiseModel, QuantumError, ReadoutError,\n",
    "    pauli_error, depolarizing_error, thermal_relaxation_error)\n",
    "\n",
    "from qiskit.ignis.mitigation.measurement import (complete_meas_cal, tensored_meas_cal,\n",
    "                                                 CompleteMeasFitter, TensoredMeasFitter)\n",
    "from qiskit.ignis.verification.tomography import state_tomography_circuits, StateTomographyFitter"
   ]
  },
  {
   "cell_type": "code",
   "execution_count": 4,
   "id": "6377a852",
   "metadata": {},
   "outputs": [
    {
     "name": "stdout",
     "output_type": "stream",
     "text": [
      "{'0': 738, '1': 262}\n",
      "[0.278, 0.253, 0.276, 0.272, 0.273, 0.265, 0.267, 0.281, 0.272]\n"
     ]
    }
   ],
   "source": [
    "theta = [np.pi/8, np.pi/4, np.pi/2, -np.pi/4, np.pi/2, np.pi, np.pi/2, np.pi/2]\n",
    "qr = QuantumRegister(7,'a')\n",
    "cr = ClassicalRegister(1,'creg')\n",
    "qc = QuantumCircuit(qr,cr)\n",
    "num_shots = 1000\n",
    "for i in range(0,7):\n",
    "    qc.ry(theta[i],qr[i])\n",
    "for i in range(0,6):\n",
    "    qc.cu(theta[i],0,0,0, qr[i], qr[6])\n",
    "qc.measure(6,0)\n",
    "job = execute(qc, BasicAer.get_backend('qasm_simulator'), shots=num_shots)\n",
    "hist = job.result().get_counts()\n",
    "print(hist)\n",
    "#Analysis of the output for multiple runs\n",
    "prob_1a = []\n",
    "for expt in range(1,10):\n",
    "    job = execute(qc, BasicAer.get_backend('qasm_simulator'), shots=num_shots)\n",
    "    prob_1a.append(job.result().get_counts()['1']/num_shots)\n",
    "print(prob_1a)"
   ]
  },
  {
   "cell_type": "code",
   "execution_count": 33,
   "id": "d216e41e",
   "metadata": {},
   "outputs": [
    {
     "name": "stdout",
     "output_type": "stream",
     "text": [
      "[<qiskit.circuit.quantumcircuit.QuantumCircuit object at 0x7fd0e80db910>, <qiskit.circuit.quantumcircuit.QuantumCircuit object at 0x7fd0e80db700>, <qiskit.circuit.quantumcircuit.QuantumCircuit object at 0x7fd0f8c00c10>]\n"
     ]
    }
   ],
   "source": [
    "#extra\n",
    "from qiskit.providers.aer import QasmSimulator\n",
    "theta = [np.pi/8, np.pi/4, np.pi/2, -np.pi/4, np.pi/2, np.pi, np.pi/2, np.pi/2]\n",
    "qr = QuantumRegister(7,'a')\n",
    "cr = ClassicalRegister(1,'creg')\n",
    "qc = QuantumCircuit(qr,cr)\n",
    "num_shots = 1000\n",
    "for i in range(0,7):\n",
    "    qc.ry(theta[i],qr[i])\n",
    "for i in range(0,6):\n",
    "    qc.cu(theta[i],0,0,0, qr[i], qr[6])\n",
    "qc.measure(6,0)\n",
    "qc.save_statevector()\n",
    "backend = QasmSimulator()\n",
    "backend_options = {'method': 'statevector'}\n",
    "job = execute(qc, backend, backend_options=backend_options)\n",
    "job_result_1 = job.result().get_statevector(qc)\n",
    "qst_1 = state_tomography_circuits(qc, qr[6])\n",
    "print(qst_1)"
   ]
  },
  {
   "cell_type": "code",
   "execution_count": 43,
   "id": "90ff1f71",
   "metadata": {},
   "outputs": [
    {
     "name": "stdout",
     "output_type": "stream",
     "text": [
      "[0.294, 0.272, 0.281, 0.277, 0.272, 0.3, 0.284, 0.281, 0.287]\n"
     ]
    }
   ],
   "source": [
    "p1Q = 0.001\n",
    "p2Q = 0.01\n",
    "theta = [np.pi/8, np.pi/4, np.pi/2, -np.pi/4, np.pi/2, np.pi, np.pi/2, np.pi/2]\n",
    "qr = QuantumRegister(7,'a')\n",
    "cr = ClassicalRegister(1,'creg')\n",
    "qc = QuantumCircuit(qr,cr)\n",
    "for i in range(0,7):\n",
    "    qc.ry(theta[i],qr[i])\n",
    "for i in range(0,6):\n",
    "    qc.cu(theta[i],0,0,0, qr[i], qr[6])\n",
    "qc.measure(6,0)\n",
    "error_1 = noise.depolarizing_error(p1Q, 1)\n",
    "error_2 = noise.depolarizing_error(p2Q, 2)\n",
    "noise_model = noise.NoiseModel()\n",
    "noise_model.add_all_qubit_quantum_error(error_1, ['x','z','h','ry'])\n",
    "noise_model.add_all_qubit_quantum_error(error_2, ['cx','cu'])\n",
    "error_gate1 = pauli_error([('X',p2Q), ('I', 1 - p2Q)])\n",
    "error_gate2 = error_gate1.tensor(error_gate1)\n",
    "error_reset = pauli_error([('X', p1Q), ('I', 1 - p1Q)])\n",
    "error_meas = pauli_error([('X',p1Q), ('I', 1 - p1Q)])\n",
    "noise_model.add_all_qubit_quantum_error(error_reset, \"reset\")\n",
    "noise_model.add_all_qubit_quantum_error(error_meas, \"measure\")\n",
    "basis_gates = noise_model.basis_gates\n",
    "prob_1a = []\n",
    "for expt in range(1,10):\n",
    "    job = execute(qc, Aer.get_backend('qasm_simulator'),\n",
    "                     basis_gates=basis_gates,\n",
    "                     noise_model=noise_model, shots=num_shots)\n",
    "    prob_1a.append(job.result().get_counts()['1']/num_shots)\n",
    "print(prob_1a)"
   ]
  },
  {
   "cell_type": "code",
   "execution_count": 26,
   "id": "73ecf5ad",
   "metadata": {},
   "outputs": [
    {
     "name": "stdout",
     "output_type": "stream",
     "text": [
      "[0.281, 0.292, 0.259, 0.265, 0.277, 0.285, 0.275, 0.278, 0.244]\n"
     ]
    }
   ],
   "source": [
    "def nonlocal_gate(qc, ctrl_qubit, target_qubit, comm_1, comm_2, theta):\n",
    "    qc.h(comm_1)\n",
    "    qc.cx(comm_1,comm_2)\n",
    "    qc.cx(ctrl_qubit,comm_1)\n",
    "    qc.measure(comm_1,0)\n",
    "    qc.x(comm_2).c_if(cr[0], 1)\n",
    "    qc.cu(theta,0,0,0,comm_2, target_qubit)\n",
    "    qc.h(comm_2)\n",
    "    qc.measure(comm_2,1)\n",
    "    qc.z(ctrl_qubit).c_if(cr[1], 1)\n",
    "    qc.reset(qr[7])\n",
    "    qc.reset(qr[8])\n",
    "    return qc\n",
    "\n",
    "qr = QuantumRegister(9,'a')\n",
    "cr = ClassicalRegister(2,'creg')\n",
    "qc = QuantumCircuit(qr,cr)\n",
    "\n",
    "theta = [np.pi/8, np.pi/4, np.pi/2, -np.pi/4, np.pi/2, np.pi, np.pi/2, np.pi/2]\n",
    "for i in range(0,7):\n",
    "    qc.ry(theta[i],qr[i])\n",
    "for i in range(0,6):\n",
    "    nonlocal_gate(qc, qr[i], qr[6], qr[7], qr[8],theta[i])\n",
    "qc.measure(6,0)\n",
    "prob_2a = []\n",
    "for expt in range(1,10):\n",
    "    job = execute(qc, BasicAer.get_backend('qasm_simulator'), shots=num_shots) \n",
    "    hist = job.result().get_counts()\n",
    "    a_0 = []\n",
    "    a_1 = []\n",
    "    key = list(hist.keys())\n",
    "    val = list(hist.values())\n",
    "    for i in range(len(key)):\n",
    "        if '1' in key[i][1]:\n",
    "            a_1.append(val[i])\n",
    "        elif '0' in key[i][1]:\n",
    "            a_0.append(val[i])\n",
    "    hist={}\n",
    "    hist['0'] = sum(a_0)\n",
    "    hist['1'] = sum(a_1) \n",
    "    prob_2a.append(hist['1']/num_shots)\n",
    "print(prob_2a)"
   ]
  },
  {
   "cell_type": "code",
   "execution_count": 27,
   "id": "dffddf7a",
   "metadata": {},
   "outputs": [
    {
     "name": "stdout",
     "output_type": "stream",
     "text": [
      "[0.272, 0.295, 0.286, 0.295, 0.294, 0.27, 0.31, 0.287, 0.302]\n"
     ]
    }
   ],
   "source": [
    "p1Q = 0.001 #single qubit gate error\n",
    "p2Q = 0.01 #two qubit gate error\n",
    "def nonlocal_gate(qc, ctrl_qubit, target_qubit, comm_1, comm_2, theta):\n",
    "    qc.h(comm_1)\n",
    "    qc.cx(comm_1,comm_2)\n",
    "    qc.cx(ctrl_qubit,comm_1)\n",
    "    qc.measure(comm_1,0)\n",
    "    qc.x(comm_2).c_if(cr[0], 1)\n",
    "    qc.cu(theta,0,0,0,comm_2, target_qubit)\n",
    "    qc.h(comm_2)\n",
    "    qc.measure(comm_2,1)\n",
    "    qc.z(ctrl_qubit).c_if(cr[1], 1)\n",
    "    qc.reset(qr[7])\n",
    "    qc.reset(qr[8])\n",
    "    return qc\n",
    "\n",
    "qr = QuantumRegister(9,'a')\n",
    "cr = ClassicalRegister(2,'creg')\n",
    "qc = QuantumCircuit(qr,cr)\n",
    "\n",
    "theta = [np.pi/8, np.pi/4, np.pi/2, -np.pi/4, np.pi/2, np.pi, np.pi/2, np.pi/2]\n",
    "for i in range(0,7):\n",
    "    qc.ry(theta[i],qr[i])\n",
    "for i in range(0,6):\n",
    "    nonlocal_gate(qc, qr[i], qr[6], qr[7], qr[8],theta[i])\n",
    "qc.measure(6,0)\n",
    "error_1 = noise.depolarizing_error(p1Q, 1)\n",
    "error_2 = noise.depolarizing_error(p2Q, 2)\n",
    "noise_model = noise.NoiseModel()\n",
    "noise_model.add_all_qubit_quantum_error(error_1, ['x','z','h','ry'])\n",
    "noise_model.add_all_qubit_quantum_error(error_2, ['cx','cu'])\n",
    "error_gate1 = pauli_error([('X',p2Q), ('I', 1 - p2Q)])\n",
    "error_gate2 = error_gate1.tensor(error_gate1)\n",
    "error_reset = pauli_error([('X', p1Q), ('I', 1 - p1Q)])\n",
    "error_meas = pauli_error([('X',p1Q), ('I', 1 - p1Q)])\n",
    "noise_model.add_all_qubit_quantum_error(error_reset, \"reset\")\n",
    "noise_model.add_all_qubit_quantum_error(error_meas, \"measure\")\n",
    "basis_gates = noise_model.basis_gates\n",
    "\n",
    "var= []\n",
    "prob_2b = []\n",
    "for expt in range(1,10):\n",
    "    result = execute(qc, Aer.get_backend('qasm_simulator'),\n",
    "                     basis_gates=basis_gates,\n",
    "                     noise_model=noise_model, shots=num_shots).result().get_counts(0)\n",
    "    a_0 = []\n",
    "    a_1 = []\n",
    "    key = list(result.keys())\n",
    "    val = list(result.values())\n",
    "    for i in range(len(key)):\n",
    "        if '1' in key[i][1]:\n",
    "            a_1.append(val[i])\n",
    "        elif '0' in key[i][1]:\n",
    "            a_0.append(val[i])\n",
    "    hist={}\n",
    "    hist['0'] = sum(a_0)\n",
    "    hist['1'] = sum(a_1) \n",
    "    prob_2b.append(hist['1']/num_shots)\n",
    "print(prob_2b)"
   ]
  },
  {
   "cell_type": "code",
   "execution_count": 28,
   "id": "061b0d55",
   "metadata": {},
   "outputs": [
    {
     "name": "stdout",
     "output_type": "stream",
     "text": [
      "0.0003717499999999993 0.00012377777777777788 0.0003321944444444437\n"
     ]
    }
   ],
   "source": [
    "print(statistics.variance(np.subtract(prob_1a,prob_1b)), statistics.variance(np.subtract(prob_1a,prob_2a)), statistics.variance(np.subtract(prob_1a,prob_2b)))"
   ]
  }
 ],
 "metadata": {
  "kernelspec": {
   "display_name": "Python 3 (ipykernel)",
   "language": "python",
   "name": "python3"
  },
  "language_info": {
   "codemirror_mode": {
    "name": "ipython",
    "version": 3
   },
   "file_extension": ".py",
   "mimetype": "text/x-python",
   "name": "python",
   "nbconvert_exporter": "python",
   "pygments_lexer": "ipython3",
   "version": "3.9.0"
  }
 },
 "nbformat": 4,
 "nbformat_minor": 5
}
