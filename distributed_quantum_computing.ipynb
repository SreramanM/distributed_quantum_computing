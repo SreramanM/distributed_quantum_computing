{
 "cells": [
  {
   "cell_type": "markdown",
   "id": "d80eb91d",
   "metadata": {},
   "source": [
    "# optimize path to link qubits in network"
   ]
  },
  {
   "cell_type": "code",
   "execution_count": 2,
   "id": "37f00408",
   "metadata": {},
   "outputs": [],
   "source": [
    "import networkx as nx \n",
    "import math\n",
    "import pandas as pd\n",
    "import matplotlib.pyplot as plt\n",
    "G = nx.Graph()\n",
    "G.add_edge(1,2)\n",
    "G.add_edge(1,3)\n",
    "G.add_edge(2,3)\n",
    "G.add_edge(2,4)\n",
    "G.add_edge(3,5)\n",
    "G.add_edge(4,5)\n",
    "G.add_edge(4,6)\n",
    "G.add_edge(5,6)\n",
    "#nx.draw(G, with_labels=True)\n",
    "num_edges = nx.number_of_edges(G)\n",
    "param_matrix = [[0]*(num_edges+1) for i in range(num_edges+1)]\n",
    "#define with [distance (km), coupling eff. (%), num_qubits, attenuation length (km)]\n",
    "param_matrix[1][2] = [30, 0.95, 20*5, 20]\n",
    "param_matrix[1][3] = [30, 0.95, 30*5, 20]\n",
    "param_matrix[2][3] = [30, 0.8, 30*5, 20]\n",
    "param_matrix[2][4] = [20, 0.9, 20*5, 20]\n",
    "param_matrix[3][5] = [20, 0.80, 20*5, 20]\n",
    "param_matrix[4][5] = [30, 0.77, 15*5, 20]\n",
    "param_matrix[4][6] = [20, 0.83,25*5, 20]\n",
    "param_matrix[5][6] = [30, 0.99, 30*5, 20]\n",
    "#We could print the list of all paths between two nodes (1,6) in the network using the simple function"
   ]
  },
  {
   "cell_type": "markdown",
   "id": "add1e9d2",
   "metadata": {},
   "source": [
    "# Entanglement generation (nodes)\n",
    "We could start with entangled link generation between two nodes. \n",
    "Strategy: Try to create entangled pairs between \"m\" qubits. in case, none of them suceed, try again (try \"neg\" times). \n",
    "Probability of getting one pair (prob) = (1-(1-p)**(neg*m))\n",
    "time taken = neg*dist/c (km/s in fiber)"
   ]
  },
  {
   "cell_type": "code",
   "execution_count": 3,
   "id": "fbe816ad",
   "metadata": {},
   "outputs": [],
   "source": [
    "def elink_edges(G, i,j, param):\n",
    "    dist = param[i][j][0]\n",
    "    latt = param[i][j][3]\n",
    "    pc = (param[i][j][1])#coupling efficiency\n",
    "    p = 0.5*(pc**2)* math.exp(-dist/latt)\n",
    "    num_pairs = math.floor(param[i][j][2]/len(list(G.nodes()))-1) #number of pairs (edges) for one elink\n",
    "    rate = 0\n",
    "    prob_max = 0\n",
    "    for neg in range(1,5):\n",
    "        prob = (1-(1-p)**(neg*num_pairs)) #probability\n",
    "        time = neg*dist/(2*1e5)\n",
    "        if prob > prob_max:\n",
    "            rate = prob*(1/time)\n",
    "            qubits = num_pairs\n",
    "            prob_max = prob\n",
    "            time_comm = time\n",
    "            neg_max = neg\n",
    "    return rate, qubits, prob_max, time_comm, neg_max\n",
    "\n",
    "\n",
    "def rate(links, elink):\n",
    "    t_max = 0\n",
    "    prob = 1\n",
    "    qubits = 0\n",
    "    for var in range(len(links)-1):\n",
    "        if elink[links[var]][links[var+1]] ==0:\n",
    "            prob= prob*elink[links[var+1]][links[var]][2]\n",
    "        else:\n",
    "            prob= prob*elink[links[var]][links[var+1]][2]\n",
    "        \n",
    "        if elink[links[var]][links[var+1]] ==0 and elink[links[var+1]][links[var]][3]> t_max:\n",
    "            time =  elink[links[var+1]][links[var]][3]\n",
    "            qubits = qubits + elink[links[var+1]][links[var]][1]\n",
    "        elif elink[links[var]][links[var+1]][3]> t_max:\n",
    "            time =  elink[links[var]][links[var+1]][3]\n",
    "            qubits = qubits + elink[links[var]][links[var+1]][1]\n",
    "    \n",
    "    return qubits/(prob/time), qubits, time, prob\n"
   ]
  },
  {
   "cell_type": "markdown",
   "id": "7ed33844",
   "metadata": {},
   "source": [
    "## Optimization with cost function\n",
    "The optimized path is obtained by defining a cost function and find the path that yields the minimum cost"
   ]
  },
  {
   "cell_type": "code",
   "execution_count": 4,
   "id": "f31467ab",
   "metadata": {},
   "outputs": [],
   "source": [
    "def cost_function(node_a, node_b, num_edges):\n",
    "    paths = list(nx.all_simple_paths(G, node_a, node_b, cutoff=None))\n",
    "    cost = [0]*(len(paths))\n",
    "    qubits_tot = [0]*(len(paths))\n",
    "    time = [0]*(len(paths))\n",
    "    p_success = [0]*(len(paths))\n",
    "    elink = [[0]*num_edges]*num_edges\n",
    "    for a in range(len(paths)):\n",
    "        for b in range(len(paths[a])-1):\n",
    "            node_1 = paths[a][b]\n",
    "            node_2 = paths[a][b+1]\n",
    "            if node_1 > node_2:\n",
    "                node_1 = node_2\n",
    "                node_2 = paths[a][b]\n",
    "            elink[node_1][node_2]= elink_edges(G, node_1,node_2, param_matrix) \n",
    "    for i in range(len(paths)):\n",
    "        cost[i], qubits_tot[i], time[i],p_success[i] = rate(paths[i], elink)\n",
    "    #print(\"The optimum path to nodes\",node_a, \"and\", node_b, \"based on the cost function is\" ,paths[cost.index(min(cost))])\n",
    "    return node_a, node_b, paths[cost.index(min(cost))], qubits_tot[cost.index(min(cost))], time[cost.index(min(cost))], p_success[cost.index(min(cost))]\n",
    "    "
   ]
  },
  {
   "cell_type": "code",
   "execution_count": 5,
   "id": "74e4e573",
   "metadata": {},
   "outputs": [
    {
     "data": {
      "text/html": [
       "<div>\n",
       "<style scoped>\n",
       "    .dataframe tbody tr th:only-of-type {\n",
       "        vertical-align: middle;\n",
       "    }\n",
       "\n",
       "    .dataframe tbody tr th {\n",
       "        vertical-align: top;\n",
       "    }\n",
       "\n",
       "    .dataframe thead th {\n",
       "        text-align: right;\n",
       "    }\n",
       "</style>\n",
       "<table border=\"1\" class=\"dataframe\">\n",
       "  <thead>\n",
       "    <tr style=\"text-align: right;\">\n",
       "      <th></th>\n",
       "      <th>Node_1</th>\n",
       "      <th>Node_2</th>\n",
       "      <th>optimized path</th>\n",
       "      <th>qubits</th>\n",
       "      <th>time(s)</th>\n",
       "      <th>P_success</th>\n",
       "    </tr>\n",
       "  </thead>\n",
       "  <tbody>\n",
       "    <tr>\n",
       "      <th>0</th>\n",
       "      <td>1</td>\n",
       "      <td>2</td>\n",
       "      <td>[1, 2]</td>\n",
       "      <td>15</td>\n",
       "      <td>0.0006</td>\n",
       "      <td>0.998284</td>\n",
       "    </tr>\n",
       "    <tr>\n",
       "      <th>1</th>\n",
       "      <td>1</td>\n",
       "      <td>3</td>\n",
       "      <td>[1, 3]</td>\n",
       "      <td>24</td>\n",
       "      <td>0.0006</td>\n",
       "      <td>0.999962</td>\n",
       "    </tr>\n",
       "    <tr>\n",
       "      <th>2</th>\n",
       "      <td>1</td>\n",
       "      <td>4</td>\n",
       "      <td>[1, 2, 4]</td>\n",
       "      <td>30</td>\n",
       "      <td>0.0004</td>\n",
       "      <td>0.998221</td>\n",
       "    </tr>\n",
       "    <tr>\n",
       "      <th>3</th>\n",
       "      <td>1</td>\n",
       "      <td>5</td>\n",
       "      <td>[1, 3, 5]</td>\n",
       "      <td>39</td>\n",
       "      <td>0.0004</td>\n",
       "      <td>0.999417</td>\n",
       "    </tr>\n",
       "    <tr>\n",
       "      <th>4</th>\n",
       "      <td>1</td>\n",
       "      <td>6</td>\n",
       "      <td>[1, 2, 4, 6]</td>\n",
       "      <td>54</td>\n",
       "      <td>0.0006</td>\n",
       "      <td>0.998206</td>\n",
       "    </tr>\n",
       "    <tr>\n",
       "      <th>5</th>\n",
       "      <td>2</td>\n",
       "      <td>3</td>\n",
       "      <td>[2, 3]</td>\n",
       "      <td>24</td>\n",
       "      <td>0.0006</td>\n",
       "      <td>0.999184</td>\n",
       "    </tr>\n",
       "    <tr>\n",
       "      <th>6</th>\n",
       "      <td>2</td>\n",
       "      <td>4</td>\n",
       "      <td>[2, 4]</td>\n",
       "      <td>15</td>\n",
       "      <td>0.0004</td>\n",
       "      <td>0.999937</td>\n",
       "    </tr>\n",
       "    <tr>\n",
       "      <th>7</th>\n",
       "      <td>2</td>\n",
       "      <td>5</td>\n",
       "      <td>[2, 4, 5]</td>\n",
       "      <td>26</td>\n",
       "      <td>0.0006</td>\n",
       "      <td>0.950708</td>\n",
       "    </tr>\n",
       "    <tr>\n",
       "      <th>8</th>\n",
       "      <td>2</td>\n",
       "      <td>6</td>\n",
       "      <td>[2, 4, 6]</td>\n",
       "      <td>34</td>\n",
       "      <td>0.0004</td>\n",
       "      <td>0.999904</td>\n",
       "    </tr>\n",
       "    <tr>\n",
       "      <th>9</th>\n",
       "      <td>3</td>\n",
       "      <td>4</td>\n",
       "      <td>[3, 5, 4]</td>\n",
       "      <td>30</td>\n",
       "      <td>0.0004</td>\n",
       "      <td>0.999393</td>\n",
       "    </tr>\n",
       "    <tr>\n",
       "      <th>10</th>\n",
       "      <td>3</td>\n",
       "      <td>5</td>\n",
       "      <td>[3, 5]</td>\n",
       "      <td>15</td>\n",
       "      <td>0.0004</td>\n",
       "      <td>0.999455</td>\n",
       "    </tr>\n",
       "    <tr>\n",
       "      <th>11</th>\n",
       "      <td>3</td>\n",
       "      <td>6</td>\n",
       "      <td>[3, 5, 6]</td>\n",
       "      <td>39</td>\n",
       "      <td>0.0006</td>\n",
       "      <td>0.999440</td>\n",
       "    </tr>\n",
       "    <tr>\n",
       "      <th>12</th>\n",
       "      <td>4</td>\n",
       "      <td>5</td>\n",
       "      <td>[4, 5]</td>\n",
       "      <td>11</td>\n",
       "      <td>0.0006</td>\n",
       "      <td>0.950767</td>\n",
       "    </tr>\n",
       "    <tr>\n",
       "      <th>13</th>\n",
       "      <td>4</td>\n",
       "      <td>6</td>\n",
       "      <td>[4, 6]</td>\n",
       "      <td>19</td>\n",
       "      <td>0.0004</td>\n",
       "      <td>0.999966</td>\n",
       "    </tr>\n",
       "    <tr>\n",
       "      <th>14</th>\n",
       "      <td>5</td>\n",
       "      <td>6</td>\n",
       "      <td>[5, 6]</td>\n",
       "      <td>24</td>\n",
       "      <td>0.0006</td>\n",
       "      <td>0.999985</td>\n",
       "    </tr>\n",
       "  </tbody>\n",
       "</table>\n",
       "</div>"
      ],
      "text/plain": [
       "    Node_1  Node_2 optimized path  qubits  time(s)  P_success\n",
       "0        1       2         [1, 2]      15   0.0006   0.998284\n",
       "1        1       3         [1, 3]      24   0.0006   0.999962\n",
       "2        1       4      [1, 2, 4]      30   0.0004   0.998221\n",
       "3        1       5      [1, 3, 5]      39   0.0004   0.999417\n",
       "4        1       6   [1, 2, 4, 6]      54   0.0006   0.998206\n",
       "5        2       3         [2, 3]      24   0.0006   0.999184\n",
       "6        2       4         [2, 4]      15   0.0004   0.999937\n",
       "7        2       5      [2, 4, 5]      26   0.0006   0.950708\n",
       "8        2       6      [2, 4, 6]      34   0.0004   0.999904\n",
       "9        3       4      [3, 5, 4]      30   0.0004   0.999393\n",
       "10       3       5         [3, 5]      15   0.0004   0.999455\n",
       "11       3       6      [3, 5, 6]      39   0.0006   0.999440\n",
       "12       4       5         [4, 5]      11   0.0006   0.950767\n",
       "13       4       6         [4, 6]      19   0.0004   0.999966\n",
       "14       5       6         [5, 6]      24   0.0006   0.999985"
      ]
     },
     "execution_count": 5,
     "metadata": {},
     "output_type": "execute_result"
    }
   ],
   "source": [
    "nodes = list(G.nodes())\n",
    "output = []\n",
    "for i in range(0, len(nodes)):\n",
    "    for j in range(i+1,len(nodes)):\n",
    "        node_a, node_b, path, qubits, time, psuccess = cost_function(nodes[i], nodes[j], num_edges)\n",
    "        output.append([node_a, node_b, path, qubits, time, psuccess])\n",
    "df = pd.DataFrame(output, columns=['Node_1', 'Node_2', 'optimized path', 'qubits', 'time(s)', 'P_success'])\n",
    "df"
   ]
  },
  {
   "cell_type": "markdown",
   "id": "358eb85d",
   "metadata": {},
   "source": [
    "#  Cost function for distributed quantum gate"
   ]
  },
  {
   "cell_type": "code",
   "execution_count": 59,
   "id": "7b66ffa2",
   "metadata": {},
   "outputs": [
    {
     "data": {
      "text/plain": [
       "Text(0.5, 1.0, 'number of trails required to achieve (1-P_success)<1e-3')"
      ]
     },
     "execution_count": 59,
     "metadata": {},
     "output_type": "execute_result"
    },
    {
     "data": {
      "image/png": "[encoded data removed]",
      "text/plain": [
       "<Figure size 640x480 with 1 Axes>"
      ]
     },
     "metadata": {},
     "output_type": "display_data"
    }
   ],
   "source": [
    "dist = 0.5\n",
    "latt = 20\n",
    "c = 2*1e5\n",
    "pc = 0.8\n",
    "p = 0.5*(pc**2)* math.exp(-dist/latt)\n",
    "t_meas = 1e-7\n",
    "t_cnot = 1e-7\n",
    "t_local = 1e-8\n",
    "cost = [0]*20\n",
    "n_ctrl = [0]*20\n",
    "x_ax = [0]*20\n",
    "for n in range(1,20):\n",
    "    p_all = [0]*100 \n",
    "    for k in range(1,100):\n",
    "        p_all[k] = ((1-(1-p)**k))**n\n",
    "        if 1-p_all[k] < 1e-3:\n",
    "            n_ctrl[n] = k\n",
    "            cost[n] = 2*n*((k*((dist)/c)) + 2*(t_meas+(dist/c))+(t_cnot) + ((20*n-38)*t_cnot) + t_local)\n",
    "            x_ax[n] = n\n",
    "            break\n",
    "plt.plot(x_ax[1:20],n_ctrl[1:20], '*-')\n",
    "plt.xticks(x_ax[1:20:2])\n",
    "plt.yticks(n_ctrl[1:20])\n",
    "plt.xlabel(\"number of control qubits (n)\")\n",
    "plt.ylabel(\"number of trials (k)\")\n",
    "plt.title(\"number of trails required to achieve (1-P_success)<1e-3\")"
   ]
  },
  {
   "cell_type": "code",
   "execution_count": 60,
   "id": "a12fd73a",
   "metadata": {},
   "outputs": [
    {
     "data": {
      "text/plain": [
       "Text(0.5, 1.0, 'cost function for distributed quantum gate')"
      ]
     },
     "execution_count": 60,
     "metadata": {},
     "output_type": "execute_result"
    },
    {
     "data": {
      "image/png": "[encoded data removed]",
      "text/plain": [
       "<Figure size 640x480 with 1 Axes>"
      ]
     },
     "metadata": {},
     "output_type": "display_data"
    }
   ],
   "source": [
    "plt.plot(x_ax[1:20],cost[1:20], '*-')\n",
    "plt.xticks(x_ax[1:20:3])\n",
    "plt.xlabel(\"number of control qubits (n)\")\n",
    "plt.ylabel(\"cost function\")\n",
    "plt.title(\"cost function for distributed quantum gate\")"
   ]
  },
  {
   "cell_type": "markdown",
   "id": "9c4615de",
   "metadata": {},
   "source": [
    "#  Cost function (quantum circuit) = number of gates* cost function (gate)"
   ]
  },
  {
   "cell_type": "code",
   "execution_count": 51,
   "id": "bf2ba45d",
   "metadata": {},
   "outputs": [
    {
     "name": "stdout",
     "output_type": "stream",
     "text": [
      "The cost function for the phase estimation algorithm\n",
      "scheme 1: number of qubits/node = 1, (qubits 1,2,3 in different nodes), cost is 0.15934670999999997\n",
      "scheme 2: number of qubits/node = 2, (qubits, 1,2 in the same node, 3 in different node) cost is 0.02280612\n",
      "Number of trails for success probability close to 1, is 36\n"
     ]
    }
   ],
   "source": [
    "#phase estimation with n_phase qubits and single target qubit. There are n_phase controlled unitary gates\n",
    "#between the control qubits and the target\n",
    "dist = 10\n",
    "latt = 20\n",
    "c = 2*1e5\n",
    "pc = 0.8\n",
    "p = 0.5*(pc**2)* math.exp(-dist/latt)\n",
    "t_meas = 1e-7\n",
    "t_cnot = 1e-7\n",
    "t_local = 1e-8\n",
    "cost = [0]*20\n",
    "n_ctrl = [0]*20\n",
    "x_ax = [0]*20\n",
    "n = 2\n",
    "n_phase = 3\n",
    "p_all = [0]*100 \n",
    "for k in range(1,100):\n",
    "    p_all[k] = ((1-(1-p)**k))**n\n",
    "    if 1-p_all[k] < 1e-3:\n",
    "        n_ctrl = k\n",
    "        cost_1= n_phase*2*n*((k*((dist)/c)) + 2*(t_meas+(dist/c))+(t_cnot) + ((2)*t_cnot) + t_local)\n",
    "        cost_2= n_phase**3*(3*((k*((dist)/c)) + 2*(t_meas+(dist/c))+(t_cnot) + ((2)*t_cnot) + t_local)+(2)*t_cnot+4*dist/c)\n",
    "        x_ax = n\n",
    "        break\n",
    "print(\"The cost function for the phase estimation algorithm\")\n",
    "print(\"scheme 1: number of qubits/node = 1, (qubits 1,2,3 in different nodes), cost is {}\".format(cost_2))\n",
    "print(\"scheme 2: number of qubits/node = 2, (qubits, 1,2 in the same node, 3 in different node) cost is {}\".format(cost_1                                                                                                              ))\n",
    "print(\"Number of trails for success probability close to 1, is\",k)"
   ]
  },
  {
   "cell_type": "markdown",
   "id": "ad08d43e",
   "metadata": {},
   "source": [
    "References:\n",
    "    1) https://arxiv.org/abs/quant-ph/0005101\n",
    "    2) https://www.nature.com/articles/s41586-018-0470-y"
   ]
  }
 ],
 "metadata": {
  "kernelspec": {
   "display_name": "Python 3 (ipykernel)",
   "language": "python",
   "name": "python3"
  },
  "language_info": {
   "codemirror_mode": {
    "name": "ipython",
    "version": 3
   },
   "file_extension": ".py",
   "mimetype": "text/x-python",
   "name": "python",
   "nbconvert_exporter": "python",
   "pygments_lexer": "ipython3",
   "version": "3.9.0"
  }
 },
 "nbformat": 4,
 "nbformat_minor": 5
}
